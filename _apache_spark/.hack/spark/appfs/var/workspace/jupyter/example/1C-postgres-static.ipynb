{
 "cells": [
  {
   "cell_type": "code",
   "execution_count": null,
   "id": "bad52192",
   "metadata": {},
   "outputs": [],
   "source": [
    "properties = {}\n",
    "\n",
    "properties['spark.app.name'] = \"1B-kafka-postgres-stream\"\n",
    "\n",
    "properties['spark.sql.streaming.checkpointLocation'] = f\"hdfs://172.21.1.190:8020/var/workspace/spark/app/checkpoint/{properties['spark.app.name']}\"\n",
    "\n",
    "properties['spark.stream.read.0A.kafka.bootstrap.servers'] = \"172.21.1.110:39092\"\n",
    "properties['spark.stream.read.0A.subscribe']               = \"kc_tradingexpert_fixlogtracer_ullink_ulbridge_bridge_v1\"\n",
    "properties['spark.stream.read.0A.startingOffsets']         = \"earliest\"\n",
    "properties['spark.stream.read.0A.maxOffsetsPerTrigger']    = 10000\n",
    "properties['spark.stream.read.0A.kafka.group.id']          = f\"{properties['spark.app.name']}\"\n",
    "\n",
    "properties['spark.stream.write.1A.kafka.bootstrap.servers'] = \"172.21.1.110:39092\"\n",
    "properties['spark.stream.write.1A.topic']                   = f\"{properties['spark.app.name']}\"\n",
    "\n",
    "properties['spark.stream.write.1B.url']                     = \"jdbc:postgresql://172.21.1.110:5432/kc_tradingexpert_fixorderlinker\"\n",
    "properties['spark.stream.write.1B.dbtable']                 = f\"{properties['spark.app.name']}\"\n",
    "properties['spark.stream.write.1B.user']                    = \"admin\"\n",
    "properties['spark.stream.write.1B.password']                = \"adminadmin123456\"\n",
    "\n",
    "\n",
    "properties['spark.driver.memory']                        = \"512m\"\n",
    "\n",
    "properties"
   ]
  },
  {
   "cell_type": "code",
   "execution_count": null,
   "id": "34f5f01c",
   "metadata": {},
   "outputs": [],
   "source": [
    "from kc.annotation.connectivity import ConnectivitySpark"
   ]
  },
  {
   "cell_type": "code",
   "execution_count": null,
   "id": "200b3756",
   "metadata": {},
   "outputs": [],
   "source": [
    "@ConnectivitySpark(configuration={\n",
    "    \"spark.app.name\": properties['spark.app.name'],\n",
    "    \"spark.sql.streaming.checkpointLocation\": properties['spark.sql.streaming.checkpointLocation'],\n",
    "    \"spark.driver.memory\": properties['spark.driver.memory']\n",
    "})\n",
    "class Application:\n",
    "    pass"
   ]
  },
  {
   "cell_type": "code",
   "execution_count": null,
   "id": "0b090896",
   "metadata": {},
   "outputs": [],
   "source": [
    "app = Application()"
   ]
  },
  {
   "cell_type": "code",
   "execution_count": null,
   "id": "a8d61789",
   "metadata": {},
   "outputs": [],
   "source": [
    "###################################################################################################################"
   ]
  },
  {
   "cell_type": "code",
   "execution_count": null,
   "id": "871fad0f",
   "metadata": {},
   "outputs": [],
   "source": [
    "import psycopg2\n",
    "from psycopg2 import Error"
   ]
  },
  {
   "cell_type": "code",
   "execution_count": null,
   "id": "c5e11e40",
   "metadata": {},
   "outputs": [],
   "source": [
    "postgres_create_table_body = \"\"\"\n",
    "CREATE TABLE IF NOT EXISTS app_biet_513_4_smu_2T (\n",
    "    \"__spec__source_CLORDID\"                      VARCHAR(100),\n",
    "    \"__spec__sink_CLORDID\"                        VARCHAR(100),\n",
    "    \"__spec__CLORDIDs\"                            TEXT [],\n",
    "    \"__source__KAFKA_SOURCE_MESSAGE_TIMESTAMP\"    TIMESTAMP,\n",
    "    \"__sink__KAFKA_SOURCE_MESSAGE_TIMESTAMP\"      TIMESTAMP,\n",
    "    \"__KAFKA_SOURCE_MESSAGE_TIMESTAMPs\"           TIMESTAMP [], \n",
    "    \"__message_type\"                              VARCHAR(100)\n",
    ");\n",
    "\"\"\""
   ]
  },
  {
   "cell_type": "code",
   "execution_count": null,
   "id": "a5e20347",
   "metadata": {},
   "outputs": [],
   "source": [
    "try:\n",
    "    connection = psycopg2.connect(\n",
    "                    host=\"172.21.1.110\",\n",
    "                    port=\"5432\",\n",
    "                    database=\"kc_tradingexpert_fixorderlinker\",\n",
    "                    user=\"admin\",\n",
    "                    password=\"adminadmin123456\")\n",
    "    cursor = connection.cursor()\n",
    "    cursor.execute(postgres_create_table_body)\n",
    "    cursor.close()\n",
    "    connection.commit()\n",
    "except(Exception, Error) as error:\n",
    "    print(\"Error while connecting to PostgreSQL\", error)\n",
    "finally:\n",
    "    if (connection):\n",
    "        connection.close()\n",
    "        print(\"PostgresSQL connection is closed\")"
   ]
  },
  {
   "cell_type": "code",
   "execution_count": null,
   "id": "fcfd7c70",
   "metadata": {},
   "outputs": [],
   "source": [
    "###################################################################################################################"
   ]
  },
  {
   "cell_type": "code",
   "execution_count": null,
   "id": "86e80177",
   "metadata": {},
   "outputs": [],
   "source": [
    "postgres_query_body = \"\"\"\n",
    "SELECT\n",
    "    *\n",
    "FROM\n",
    "    app_biet_513_4_smu_2T\n",
    "\"\"\""
   ]
  },
  {
   "cell_type": "code",
   "execution_count": null,
   "id": "00f2bb6d",
   "metadata": {},
   "outputs": [],
   "source": [
    "df_source_postgres = app.spark.read.format(\"jdbc\") \\\n",
    "                                   .option(\"driver\", \"org.postgresql.Driver\") \\\n",
    "                                   .option(\"url\", \"jdbc:postgresql://172.21.1.110:5432/kc_tradingexpert_fixorderlinker\") \\\n",
    "                                   .option(\"user\", \"admin\") \\\n",
    "                                   .option(\"password\", \"adminadmin123456\") \\\n",
    "                                   .option(\"query\", postgres_query_body) \\\n",
    "                                   .load()\n",
    "df_source_postgres.createOrReplaceTempView(\"df_source_postgres\")"
   ]
  },
  {
   "cell_type": "code",
   "execution_count": null,
   "id": "4d2a5891",
   "metadata": {},
   "outputs": [],
   "source": [
    "###################################################################################################################"
   ]
  },
  {
   "cell_type": "code",
   "execution_count": null,
   "id": "53b1cb8b",
   "metadata": {},
   "outputs": [],
   "source": [
    "import pyspark.sql\n",
    "\n",
    "def __DumpBatchDF_SinkGroup_2(batch_DF: pyspark.sql.DataFrame, batch_id: int) -> None:\n",
    "    batch_DF.persist()\n",
    "    batch_DF.write.format(\"jdbc\") \\\n",
    "            .option(\"driver\", \"org.postgresql.Driver\") \\\n",
    "            .option(\"url\", properties['spark.stream.write.1B.url']) \\\n",
    "            .option(\"dbtable\", properties['spark.stream.write.1B.dbtable']) \\\n",
    "            .option(\"user\", properties['spark.stream.write.1B.user']) \\\n",
    "            .option(\"password\", properties['spark.stream.write.1B.password']) \\\n",
    "            .mode(\"append\") \\\n",
    "            .save()\n",
    "    batch_DF.unpersist()"
   ]
  },
  {
   "cell_type": "code",
   "execution_count": null,
   "id": "bd6e8801",
   "metadata": {},
   "outputs": [],
   "source": [
    "###################################################################################################################"
   ]
  },
  {
   "cell_type": "code",
   "execution_count": null,
   "id": "a4480f0f",
   "metadata": {},
   "outputs": [],
   "source": [
    "pipeline = df_source_postgres.writeStream \\\n",
    "                  .foreachBatch(__DumpBatchDF_SinkGroup_2) \\\n",
    "                  .outputMode(\"append\") \\\n",
    "                  .trigger(processingTime='1 second') \\\n",
    "                  .start()"
   ]
  },
  {
   "cell_type": "code",
   "execution_count": null,
   "id": "24a63a74",
   "metadata": {},
   "outputs": [],
   "source": [
    "###################################################################################################################"
   ]
  }
 ],
 "metadata": {
  "kernelspec": {
   "display_name": "keplercheuvreux",
   "language": "python",
   "name": "keplercheuvreux"
  },
  "language_info": {
   "codemirror_mode": {
    "name": "ipython",
    "version": 3
   },
   "file_extension": ".py",
   "mimetype": "text/x-python",
   "name": "python",
   "nbconvert_exporter": "python",
   "pygments_lexer": "ipython3",
   "version": "3.10.10"
  }
 },
 "nbformat": 4,
 "nbformat_minor": 5
}
